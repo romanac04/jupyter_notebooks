{
 "cells": [
  {
   "cell_type": "code",
   "execution_count": 1,
   "id": "a78112f9",
   "metadata": {},
   "outputs": [],
   "source": [
    "import numpy as np\n",
    "import pandas as pd\n"
   ]
  },
  {
   "cell_type": "code",
   "execution_count": 2,
   "id": "55cbabc2",
   "metadata": {},
   "outputs": [],
   "source": [
    "math_grades = [11,12,11,7,9.5,15,18]\n",
    "science_grades = [9, 11, 18,15.5,12,18.5,15.5]\n",
    "reading_grades = [16,8.5,11.5,11,10.5,7,11]\n",
    "history_grades = [13.5,10,9,14,14,12,7.5]"
   ]
  },
  {
   "cell_type": "code",
   "execution_count": 4,
   "id": "e391b89f",
   "metadata": {},
   "outputs": [
    {
     "name": "stdout",
     "output_type": "stream",
     "text": [
      "11.928571428571429\n",
      "14.214285714285714\n",
      "10.785714285714286\n",
      "11.428571428571429\n"
     ]
    }
   ],
   "source": [
    "print(np.mean(math_grades))\n",
    "print(np.mean(science_grades))\n",
    "print(np.mean(reading_grades))\n",
    "print(np.mean(history_grades))"
   ]
  },
  {
   "cell_type": "code",
   "execution_count": 5,
   "id": "8379f723",
   "metadata": {},
   "outputs": [
    {
     "name": "stdout",
     "output_type": "stream",
     "text": [
      "11.0\n"
     ]
    }
   ],
   "source": [
    "print(np.median(math_grades))"
   ]
  },
  {
   "cell_type": "code",
   "execution_count": 6,
   "id": "864e0395",
   "metadata": {},
   "outputs": [
    {
     "data": {
      "text/plain": [
       "14"
      ]
     },
     "execution_count": 6,
     "metadata": {},
     "output_type": "execute_result"
    }
   ],
   "source": [
    "import statistics\n",
    "statistics.mode(history_grades)"
   ]
  },
  {
   "cell_type": "code",
   "execution_count": 12,
   "id": "2933e173",
   "metadata": {},
   "outputs": [
    {
     "data": {
      "text/html": [
       "<div>\n",
       "<style scoped>\n",
       "    .dataframe tbody tr th:only-of-type {\n",
       "        vertical-align: middle;\n",
       "    }\n",
       "\n",
       "    .dataframe tbody tr th {\n",
       "        vertical-align: top;\n",
       "    }\n",
       "\n",
       "    .dataframe thead th {\n",
       "        text-align: right;\n",
       "    }\n",
       "</style>\n",
       "<table border=\"1\" class=\"dataframe\">\n",
       "  <thead>\n",
       "    <tr style=\"text-align: right;\">\n",
       "      <th></th>\n",
       "      <th>math_grades</th>\n",
       "      <th>science_grades</th>\n",
       "      <th>reading_grades</th>\n",
       "      <th>history_grades</th>\n",
       "    </tr>\n",
       "  </thead>\n",
       "  <tbody>\n",
       "    <tr>\n",
       "      <th>math_grades</th>\n",
       "      <td>1.000000</td>\n",
       "      <td>0.269494</td>\n",
       "      <td>-0.268562</td>\n",
       "      <td>-0.718358</td>\n",
       "    </tr>\n",
       "    <tr>\n",
       "      <th>science_grades</th>\n",
       "      <td>0.269494</td>\n",
       "      <td>1.000000</td>\n",
       "      <td>-0.527606</td>\n",
       "      <td>-0.358688</td>\n",
       "    </tr>\n",
       "    <tr>\n",
       "      <th>reading_grades</th>\n",
       "      <td>-0.268562</td>\n",
       "      <td>-0.527606</td>\n",
       "      <td>1.000000</td>\n",
       "      <td>0.206794</td>\n",
       "    </tr>\n",
       "    <tr>\n",
       "      <th>history_grades</th>\n",
       "      <td>-0.718358</td>\n",
       "      <td>-0.358688</td>\n",
       "      <td>0.206794</td>\n",
       "      <td>1.000000</td>\n",
       "    </tr>\n",
       "  </tbody>\n",
       "</table>\n",
       "</div>"
      ],
      "text/plain": [
       "                math_grades  science_grades  reading_grades  history_grades\n",
       "math_grades        1.000000        0.269494       -0.268562       -0.718358\n",
       "science_grades     0.269494        1.000000       -0.527606       -0.358688\n",
       "reading_grades    -0.268562       -0.527606        1.000000        0.206794\n",
       "history_grades    -0.718358       -0.358688        0.206794        1.000000"
      ]
     },
     "execution_count": 12,
     "metadata": {},
     "output_type": "execute_result"
    }
   ],
   "source": [
    "df = pd.DataFrame({'math_grades':math_grades,\n",
    "                   'science_grades':science_grades,\n",
    "                   'reading_grades':reading_grades,\n",
    "                   'history_grades':history_grades\n",
    "                  })\n",
    "df.corr()\n"
   ]
  },
  {
   "cell_type": "code",
   "execution_count": 13,
   "id": "a898760e",
   "metadata": {},
   "outputs": [
    {
     "name": "stdout",
     "output_type": "stream",
     "text": [
      "Math and science have strongest correlation\n"
     ]
    }
   ],
   "source": [
    "print(\"Math and science have strongest correlation\")"
   ]
  },
  {
   "cell_type": "code",
   "execution_count": 21,
   "id": "f566562b",
   "metadata": {},
   "outputs": [
    {
     "name": "stdout",
     "output_type": "stream",
     "text": [
      "Mean: 59.48\n",
      "Median: 60.00\n",
      "Mode: 60.00\n",
      "Minimum: 5.00\n",
      "Maximum: 99.00\n",
      "Range: 94.00\n",
      "Variance: 664.16\n",
      "Standard deviation: 25.77\n"
     ]
    }
   ],
   "source": [
    "recent_math_grades=[24, 5, 15, 60, 54, 82, 99, 80, 70, 98, 93, 60, 33, 22, 65, 61, 51, 58, 83, 86, 42, 67, 60]\n",
    "def desc_stats(numbers):\n",
    "    mean = np.mean(numbers)\n",
    "    median = np.median(numbers)\n",
    "    mode = statistics.mode(numbers)\n",
    "    minimum = min(numbers)\n",
    "    maximum = max(numbers)\n",
    "    range = maximum - minimum\n",
    "    variance = np.var(numbers)\n",
    "    std_dev = np.std(numbers)\n",
    "   \n",
    "    print(f\"Mean: {mean:.2f}\")\n",
    "    print(f\"Median: {median:.2f}\")\n",
    "    print(f\"Mode: {mode:.2f}\")\n",
    "    print(f\"Minimum: {minimum:.2f}\")\n",
    "    print(f\"Maximum: {maximum:.2f}\")\n",
    "    print(f\"Range: {range:.2f}\")\n",
    "    print(f\"Variance: {variance:.2f}\")\n",
    "    print(f\"Standard deviation: {std_dev:.2f}\")\n",
    "    \n",
    "desc_stats(recent_math_grades)"
   ]
  },
  {
   "cell_type": "markdown",
   "id": "8acb6d63",
   "metadata": {},
   "source": [
    "Extended challenge: I would curve the grades because the average is close to 60 which is in the \"F\" range. I would curve it to at least a C."
   ]
  },
  {
   "cell_type": "code",
   "execution_count": null,
   "id": "584f8597",
   "metadata": {},
   "outputs": [],
   "source": []
  }
 ],
 "metadata": {
  "kernelspec": {
   "display_name": "Python 3 (ipykernel)",
   "language": "python",
   "name": "python3"
  },
  "language_info": {
   "codemirror_mode": {
    "name": "ipython",
    "version": 3
   },
   "file_extension": ".py",
   "mimetype": "text/x-python",
   "name": "python",
   "nbconvert_exporter": "python",
   "pygments_lexer": "ipython3",
   "version": "3.10.9"
  }
 },
 "nbformat": 4,
 "nbformat_minor": 5
}
