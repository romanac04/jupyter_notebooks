{
 "cells": [
  {
   "cell_type": "markdown",
   "metadata": {
    "id": "syjvhtFLj2g1"
   },
   "source": [
    "# Introduction to PySpark Lab (Part 1)\n",
    "## Prerequisites\n",
    "### Install pyspark\n"
   ]
  },
  {
   "cell_type": "code",
   "execution_count": 1,
   "metadata": {
    "colab": {
     "base_uri": "https://localhost:8080/"
    },
    "id": "5zNTtoFueQ4F",
    "outputId": "bbb8dfb7-9b29-4277-cff2-f22373ab74dd"
   },
   "outputs": [
    {
     "name": "stdout",
     "output_type": "stream",
     "text": [
      "Requirement already satisfied: pyspark in c:\\users\\roman\\anaconda3\\lib\\site-packages (3.4.1)\n",
      "Requirement already satisfied: py4j==0.10.9.7 in c:\\users\\roman\\anaconda3\\lib\\site-packages (from pyspark) (0.10.9.7)\n"
     ]
    }
   ],
   "source": [
    "!pip install pyspark"
   ]
  },
  {
   "cell_type": "markdown",
   "metadata": {
    "id": "sj0MSt29kJLV"
   },
   "source": [
    "### Create a SparkContext"
   ]
  },
  {
   "cell_type": "code",
   "execution_count": 2,
   "metadata": {
    "id": "t-U2OzkteXH-"
   },
   "outputs": [
    {
     "ename": "RuntimeError",
     "evalue": "Java gateway process exited before sending its port number",
     "output_type": "error",
     "traceback": [
      "\u001b[1;31m---------------------------------------------------------------------------\u001b[0m",
      "\u001b[1;31mRuntimeError\u001b[0m                              Traceback (most recent call last)",
      "Cell \u001b[1;32mIn[2], line 3\u001b[0m\n\u001b[0;32m      1\u001b[0m \u001b[38;5;28;01mfrom\u001b[39;00m \u001b[38;5;21;01mpyspark\u001b[39;00m\u001b[38;5;21;01m.\u001b[39;00m\u001b[38;5;21;01mcontext\u001b[39;00m \u001b[38;5;28;01mimport\u001b[39;00m SparkContext\n\u001b[0;32m      2\u001b[0m \u001b[38;5;66;03m# Create a Spark Context\u001b[39;00m\n\u001b[1;32m----> 3\u001b[0m sc \u001b[38;5;241m=\u001b[39m \u001b[43mSparkContext\u001b[49m\u001b[43m(\u001b[49m\u001b[38;5;124;43m\"\u001b[39;49m\u001b[38;5;124;43mlocal[*]\u001b[39;49m\u001b[38;5;124;43m\"\u001b[39;49m\u001b[43m,\u001b[49m\u001b[43m \u001b[49m\u001b[38;5;124;43m'\u001b[39;49m\u001b[38;5;124;43mlab1\u001b[39;49m\u001b[38;5;124;43m'\u001b[39;49m\u001b[43m)\u001b[49m\n\u001b[0;32m      4\u001b[0m \u001b[38;5;66;03m# Check Spark Context Information\u001b[39;00m\n\u001b[0;32m      5\u001b[0m sc\n",
      "File \u001b[1;32m~\\anaconda3\\lib\\site-packages\\pyspark\\context.py:198\u001b[0m, in \u001b[0;36mSparkContext.__init__\u001b[1;34m(self, master, appName, sparkHome, pyFiles, environment, batchSize, serializer, conf, gateway, jsc, profiler_cls, udf_profiler_cls, memory_profiler_cls)\u001b[0m\n\u001b[0;32m    192\u001b[0m \u001b[38;5;28;01mif\u001b[39;00m gateway \u001b[38;5;129;01mis\u001b[39;00m \u001b[38;5;129;01mnot\u001b[39;00m \u001b[38;5;28;01mNone\u001b[39;00m \u001b[38;5;129;01mand\u001b[39;00m gateway\u001b[38;5;241m.\u001b[39mgateway_parameters\u001b[38;5;241m.\u001b[39mauth_token \u001b[38;5;129;01mis\u001b[39;00m \u001b[38;5;28;01mNone\u001b[39;00m:\n\u001b[0;32m    193\u001b[0m     \u001b[38;5;28;01mraise\u001b[39;00m \u001b[38;5;167;01mValueError\u001b[39;00m(\n\u001b[0;32m    194\u001b[0m         \u001b[38;5;124m\"\u001b[39m\u001b[38;5;124mYou are trying to pass an insecure Py4j gateway to Spark. This\u001b[39m\u001b[38;5;124m\"\u001b[39m\n\u001b[0;32m    195\u001b[0m         \u001b[38;5;124m\"\u001b[39m\u001b[38;5;124m is not allowed as it is a security risk.\u001b[39m\u001b[38;5;124m\"\u001b[39m\n\u001b[0;32m    196\u001b[0m     )\n\u001b[1;32m--> 198\u001b[0m \u001b[43mSparkContext\u001b[49m\u001b[38;5;241;43m.\u001b[39;49m\u001b[43m_ensure_initialized\u001b[49m\u001b[43m(\u001b[49m\u001b[38;5;28;43mself\u001b[39;49m\u001b[43m,\u001b[49m\u001b[43m \u001b[49m\u001b[43mgateway\u001b[49m\u001b[38;5;241;43m=\u001b[39;49m\u001b[43mgateway\u001b[49m\u001b[43m,\u001b[49m\u001b[43m \u001b[49m\u001b[43mconf\u001b[49m\u001b[38;5;241;43m=\u001b[39;49m\u001b[43mconf\u001b[49m\u001b[43m)\u001b[49m\n\u001b[0;32m    199\u001b[0m \u001b[38;5;28;01mtry\u001b[39;00m:\n\u001b[0;32m    200\u001b[0m     \u001b[38;5;28mself\u001b[39m\u001b[38;5;241m.\u001b[39m_do_init(\n\u001b[0;32m    201\u001b[0m         master,\n\u001b[0;32m    202\u001b[0m         appName,\n\u001b[1;32m   (...)\u001b[0m\n\u001b[0;32m    212\u001b[0m         memory_profiler_cls,\n\u001b[0;32m    213\u001b[0m     )\n",
      "File \u001b[1;32m~\\anaconda3\\lib\\site-packages\\pyspark\\context.py:432\u001b[0m, in \u001b[0;36mSparkContext._ensure_initialized\u001b[1;34m(cls, instance, gateway, conf)\u001b[0m\n\u001b[0;32m    430\u001b[0m \u001b[38;5;28;01mwith\u001b[39;00m SparkContext\u001b[38;5;241m.\u001b[39m_lock:\n\u001b[0;32m    431\u001b[0m     \u001b[38;5;28;01mif\u001b[39;00m \u001b[38;5;129;01mnot\u001b[39;00m SparkContext\u001b[38;5;241m.\u001b[39m_gateway:\n\u001b[1;32m--> 432\u001b[0m         SparkContext\u001b[38;5;241m.\u001b[39m_gateway \u001b[38;5;241m=\u001b[39m gateway \u001b[38;5;129;01mor\u001b[39;00m \u001b[43mlaunch_gateway\u001b[49m\u001b[43m(\u001b[49m\u001b[43mconf\u001b[49m\u001b[43m)\u001b[49m\n\u001b[0;32m    433\u001b[0m         SparkContext\u001b[38;5;241m.\u001b[39m_jvm \u001b[38;5;241m=\u001b[39m SparkContext\u001b[38;5;241m.\u001b[39m_gateway\u001b[38;5;241m.\u001b[39mjvm\n\u001b[0;32m    435\u001b[0m     \u001b[38;5;28;01mif\u001b[39;00m instance:\n",
      "File \u001b[1;32m~\\anaconda3\\lib\\site-packages\\pyspark\\java_gateway.py:106\u001b[0m, in \u001b[0;36mlaunch_gateway\u001b[1;34m(conf, popen_kwargs)\u001b[0m\n\u001b[0;32m    103\u001b[0m     time\u001b[38;5;241m.\u001b[39msleep(\u001b[38;5;241m0.1\u001b[39m)\n\u001b[0;32m    105\u001b[0m \u001b[38;5;28;01mif\u001b[39;00m \u001b[38;5;129;01mnot\u001b[39;00m os\u001b[38;5;241m.\u001b[39mpath\u001b[38;5;241m.\u001b[39misfile(conn_info_file):\n\u001b[1;32m--> 106\u001b[0m     \u001b[38;5;28;01mraise\u001b[39;00m \u001b[38;5;167;01mRuntimeError\u001b[39;00m(\u001b[38;5;124m\"\u001b[39m\u001b[38;5;124mJava gateway process exited before sending its port number\u001b[39m\u001b[38;5;124m\"\u001b[39m)\n\u001b[0;32m    108\u001b[0m \u001b[38;5;28;01mwith\u001b[39;00m \u001b[38;5;28mopen\u001b[39m(conn_info_file, \u001b[38;5;124m\"\u001b[39m\u001b[38;5;124mrb\u001b[39m\u001b[38;5;124m\"\u001b[39m) \u001b[38;5;28;01mas\u001b[39;00m info:\n\u001b[0;32m    109\u001b[0m     gateway_port \u001b[38;5;241m=\u001b[39m read_int(info)\n",
      "\u001b[1;31mRuntimeError\u001b[0m: Java gateway process exited before sending its port number"
     ]
    }
   ],
   "source": [
    "from pyspark.context import SparkContext\n",
    "# Create a Spark Context\n",
    "sc = SparkContext(\"local[*]\", 'lab1')\n",
    "# Check Spark Context Information\n",
    "sc"
   ]
  },
  {
   "cell_type": "markdown",
   "metadata": {
    "id": "n7RTbXiBjwL7"
   },
   "source": [
    "## Question 1: Create a Spark RDD from the list of license plates below"
   ]
  },
  {
   "cell_type": "code",
   "execution_count": 3,
   "metadata": {
    "id": "T89PH_kmhAKY"
   },
   "outputs": [],
   "source": [
    "license_plates = ['YZ-8548', '0UE 798', 'KT-1109', '828-VSA', '192 7887', '3-70684', 'NXF-430', '3-0494R', '0OF31',\n",
    "                  'ALE-8818', 'C89-27I', '598 7619', '59WN433', 'SU2 2684', '5SE M93', 'ALQ3793', '3C SA940', '767GDS',\n",
    "                  '46-Z380', 'ZV 48424', '9JX M45', '8-48213', '3JSS 07', '766 9BG', '520 UA0', '81-60250', '260 ODL',\n",
    "                  '6MN U92', '01-6312S', '1W O3813', '5WQ 656', '051 KIF', '243-972', '7UR36', '137-YAH', 'LZM-9881',\n",
    "                  '5M524', '231NQY', '478 DZN', 'TDM-0555', 'V50 1XB', '333-YHT', '41I X21', 'DLD-3865', 'OYK 757',\n",
    "                  'H18 4OB', '8-56620', '4RK4449', 'VCZ7194', 'NM 9752', 'BYY0205', '018 3239', '5G 6893S', '6-81631',\n",
    "                  '693 SV9', 'JST-8152', '552 PK6', '382 LTD', '159M9', 'RGQ 235', 'ROA6712', 'ZOA 414', 'F89-EHL',\n",
    "                  'O67 5FA', '6H052', '7T Z1498', 'HJ 06230', 'LPL-2048', '44-3082L', '2SD 265', '571 1288', '9-Q4755',\n",
    "                  'JTG4114', '4-99528M', '117 GRH', '189 TRI', '42-8792P', '405M', 'TR2 I0Y', '85OA3', '5J 81373',\n",
    "                  '1GY2430', 'DKL-518', '0A360', '884 0101', 'RCW 291', '76-X797', 'QXC 973', '820 WII', 'BCS5530',\n",
    "                  '0UJ3626', '00W G14', 'U74 4EF', '570JUP', '77Q Q04', '776 UWY', '876 ND3', 'DVC 7784', '683 FLE',\n",
    "                  'DYN-604', 'FVK 394', '998 WZ4', 'EIK-9572', 'WGH-760', 'XIW3544', '6R 0329Q', '450 BSJ', 'IY 61384',\n",
    "                  'NZQ 097', '04PK8', '482-390', '6N SW836', '075APU', '5-L7817', 'KXT 380', '49-8925K', '506-DAH',\n",
    "                  '2-73596', '0D 4448K', '74-H949', 'C62-JDV', 'MCP-458', '290-GDN', '959 HYS', '8-62259', '52UF096',\n",
    "                  '015 RGJ', 'CZH 288', 'MNH 034', 'XYY-9892', 'FJ3 7074', '174 4LN', '87EY541', '672-EMPV', '210-320',\n",
    "                  'RBF-3966', '9TL 317', '2P A2904', 'V36-88C', 'OPY 165', '34-6534K', 'MU 26458', '5VJ 039', '785S3',\n",
    "                  'O95 1DA', 'XPT-8782', '5-0604W', '578 YSJ', '960 JM6', 'YQ 85130', 'J 314563', 'O15-22B', 'OWU-827',\n",
    "                  '167CSW', '4709 SV', '238 6OC', '8JA C15', '264 2406', '692YQA', '364 PBN', '42-UR19', '643-LEQ',\n",
    "                  '8QI8937', 'KDT 857', '0-41754T', 'GYG-7238', '72G 218', '1MH Y45', 'HPG 499', '361-BAL', '56B 584',\n",
    "                  '460 4YJ', '96RK426', '559-ATV', 'YRF4202', 'HFV 589', '365-BOV', '346-WQW', 'OGP0504', '157-DZB',\n",
    "                  '564 GGJ', '81K 333', '086 KX4', '8JJA 11', '8-64227', 'PX-5701', '023 UY0', 'AEA5674', '6-7878B',\n",
    "                  '0S778', '300701', '6R E6025', '1NOQ230', '071-FAO', 'WLO6375', '427 6DF', '78Y 486', '059B',\n",
    "                  'L19-VQT', '70P 9281', 'TOU-274', '9-30314C', 'I16 6IJ', 'TRL 080', '294 2CJ', 'INT-541', '87XL4',\n",
    "                  '2U NZ514', '4G 11626', '449-TEW', '02BJ129', '4TZ 240', '0LIB079', 'XHT 625', '91-45603', 'B50 1QP',\n",
    "                  'GJ-9473', 'FFF-802', '509 YJU', 'KKZ 768', '141-194', '51EQ066', 'QPW7131', '96BJ2', '512 ZRA',\n",
    "                  '4Z NT182', '07FE295', '9Y032', '72B K99', 'HGU 878', '37A WH3', '659 XVE', 'SSS3515', '741-FBVW',\n",
    "                  'EC8 5995', '357-731', 'M 949716', '38WW169', '2W 46317', '9C 7039Y', '8-68298B', '128 QEF',\n",
    "                  'XZ 3467', '513 4NP', '6-34035H', '5LV0387', '82-NX74', 'IN 50292', '5KZ 929', '1OL Z22', '7V281',\n",
    "                  '206 LCL', '21F L77', 'DWD-4788', '006 FCM', '8WZ 328', 'J80-CHH', '2G 60705', '7-95900',\n",
    "                  '6C 9C3OKB', '4009 HF', '3XZ D46', 'WSN 244', 'NXL 565', '9-O2658', 'ZRM Z55', '28-89272',\n",
    "                  '3AP U34', '28Z OF7', 'DOD 737', '7CWN899', '004U4', '572 OP6', 'NFF 212', '964HVF', '9346',\n",
    "                  '12-J597', '779 HOS', 'FDB0525', '112A8', 'BFP 805', '365-UDB', 'OJA-882', '495 XEM', 'HEF-9395',\n",
    "                  '321079', '41W 496', 'HRX 035', 'WPG3657', '54-95903', '914 3PV', '7ZJE 44', '920GZH', '5M 40807',\n",
    "                  '723 NBA', 'FZ 4142', '42P Z80', '906-ILJ', '7D 8144M', '0W448', '3I 2454H', 'SCT-616', 'MDG 967',\n",
    "                  '373 PFA', '7WF3035', 'GCO-9711', '65F 655', '926 LU2', 'XCR1430', '531232', '619R', '4NH4108', '222 ZNG',\n",
    "                  'XRB 389', 'GCR-811', '1SE 422', '324 8BZ', '561 5143', '9Y628', '6X 4986T', '408-ISY', '224 HLM', '711 PX7',\n",
    "                  '3-76246', 'LD-5417', '61ZI7', 'CQ0 P7R', '48RU7', 'YDO-435', 'RZG 532', '049-SCLO', '793 FLH', '128-MHRY',\n",
    "                  '692-789', '7VZ 068', '738 LEJ', '988 GLG', '3689', '344 8BK', 'YUH J32', '3BN 777', '6Y NY891', '8LP 896',\n",
    "                  'FFK1859', 'DUR 307', '4-44895O', '6UG6177', 'HYB 443', '9ZDF 19', '90W 5262', 'HNQ-3307', '652GPN', '3-50680',\n",
    "                  'UQR 356', '987SWC', 'MPP 997', '76I•288', '4QXL385', 'MBX 129', 'KHF 225', '080 WAQ', 'JB 7782', '3G 60590',\n",
    "                  '77U 723', 'HQR 928', '9-2507M', '238 KVJ', 'KUZ 173', 'APZ-317', '729 TQM', 'DEB-2598', '8-70554', '9NN M56',\n",
    "                  'HFE 419', 'WF 2868', '4HS8731', 'T15 2JW', '771-LOI', 'VGY A15', 'BU 65960', 'CK9 H9T', '5RL 241', '4Q HH458',\n",
    "                  '1256', '5TGG544', 'YS 04475', 'WA 96199', 'IA-3676', '775UJT', '2N 7P6WNM', '546 JB1', '4ZPJ 32', '7V 2801N',\n",
    "                  'FDF-595', '73-S670', 'WVW-508', '709 LEN', '736DC', '90-QB18', '922 CB3', '17Y 383', 'B42-DHA',\n",
    "                  '782-QXO', '3CI6217', '96-U448', 'MBH2922', '83B•127', 'P13 4IE', 'WYQ-6324', 'GFE-957', '572 TAY',\n",
    "                  '932PAI', 'ZY 71175', '632 9HD', 'OH1 8399', 'HDN 370', 'PYN Y34', '623UTQ', 'SP 81439', '510C0',\n",
    "                  '123 BZI', '425-ONG', '6R L1511', 'ICR-353', '1K 1212Z', 'UG-8476', '09E MM1', 'YBA-787', '3PT35',\n",
    "                  'LLW 267', 'UJR-3228', 'AMJ 0093', '4H E7592', '247 QZU', 'KXI 593', 'JVS-036', '0E567', '080C8',\n",
    "                  '898-UOD', 'XAO 328', '58P•323', 'MKV 102', '038GF', 'QX-8074', 'RSQ-9213', 'TAA 643', '1KAG 26', '3-98741X',\n",
    "                  '276 DLY', '14L•849', '6H 69412', 'KXE 551', '761 VRT', '00K B51', '8J 2L9NDA', '635 8NG', 'PST B80']"
   ]
  },
  {
   "cell_type": "code",
   "execution_count": null,
   "metadata": {},
   "outputs": [],
   "source": [
    "!curl -O http://apache.osuosl.org/spark/spark-3.4.1/spark-3.4.1-bin-hadoop3.tgz"
   ]
  },
  {
   "cell_type": "code",
   "execution_count": 4,
   "metadata": {},
   "outputs": [],
   "source": [
    "!tar xf spark-3.4.1-bin-hadoop3.tgz"
   ]
  },
  {
   "cell_type": "code",
   "execution_count": 1,
   "metadata": {},
   "outputs": [],
   "source": [
    "!pip install -q findspark"
   ]
  },
  {
   "cell_type": "code",
   "execution_count": 11,
   "metadata": {},
   "outputs": [],
   "source": [
    "# Set enviroment\n",
    "import os\n",
    "os.environ['JAVA_HOME'] = '/usr/lib/jvm/java-8-openjdk-amd64'\n",
    "os.environ['SPARK_HOME'] = r'/Users/roman/jupyter_notebooks/spark-3.4.1-bin-hadoop3'"
   ]
  },
  {
   "cell_type": "code",
   "execution_count": 2,
   "metadata": {
    "id": "WaZX27MkkicU"
   },
   "outputs": [
    {
     "data": {
      "text/plain": [
       "pyspark.sql.session.SparkSession"
      ]
     },
     "execution_count": 2,
     "metadata": {},
     "output_type": "execute_result"
    }
   ],
   "source": [
    "# write your answer here\n",
    "\n",
    "import findspark\n",
    "findspark.init()\n",
    "from pyspark.sql import SparkSession\n",
    "\n",
    "# SparkSession() will be the primary interface for working with distributed data\n",
    "spark = SparkSession.builder.master('local[*]').getOrCreate()\n",
    "type(spark)"
   ]
  },
  {
   "cell_type": "markdown",
   "metadata": {
    "id": "I5JGFUtmhMhF"
   },
   "source": [
    "## Question 2: Count the Number of License Plates in the RDD"
   ]
  },
  {
   "cell_type": "code",
   "execution_count": 5,
   "metadata": {
    "id": "LJJ3bL_OhMhK"
   },
   "outputs": [
    {
     "name": "stdout",
     "output_type": "stream",
     "text": [
      "Total number of license plates: 457\n"
     ]
    }
   ],
   "source": [
    "# write your answer here\n",
    "license_plates_rdd = spark.sparkContext.parallelize(license_plates)\n",
    "license_plate_count = license_plates_rdd.count()\n",
    "print(\"Total number of license plates:\", license_plate_count)"
   ]
  },
  {
   "cell_type": "markdown",
   "metadata": {
    "id": "I_WKpwMrhdyK"
   },
   "source": [
    "## Question 3: Return the License Plates containing the consecutive numbers `93`\n",
    "\n",
    "For example `'932PAI'` should be included, but `'9FP3AI'` should not be included."
   ]
  },
  {
   "cell_type": "code",
   "execution_count": 15,
   "metadata": {
    "id": "Naz97MUwhdyN"
   },
   "outputs": [
    {
     "name": "stdout",
     "output_type": "stream",
     "text": [
      "License Plates with consecutive numbers '93': ['5SE M93', 'ALQ3793', '5G 6893S', '693 SV9', '8QI8937', '9346', 'HEF-9395', '793 FLH', '932PAI', 'AMJ 0093', 'KXI 593']\n"
     ]
    }
   ],
   "source": [
    "# write your answer here\n",
    "filtered_rdd = license_plates_rdd.filter(lambda x: '93' in x)\n",
    "filtered_license_plates = filtered_rdd.collect()\n",
    "print(\"License Plates with consecutive numbers '93':\", filtered_license_plates)"
   ]
  },
  {
   "cell_type": "markdown",
   "metadata": {
    "id": "TwUQwZBGvh-h"
   },
   "source": [
    "## Question 4: Extract the first value of each license plate and count the number of occurences for each value\n",
    "\n",
    "For example, `'932PAI'` will be counted towards the `9` group"
   ]
  },
  {
   "cell_type": "code",
   "execution_count": 53,
   "metadata": {},
   "outputs": [
    {
     "name": "stdout",
     "output_type": "stream",
     "text": [
      "Y: 7\n",
      "0: 31\n",
      "K: 8\n",
      "8: 24\n",
      "1: 25\n",
      "3: 31\n",
      "N: 5\n",
      "A: 5\n",
      "C: 5\n",
      "5: 37\n",
      "S: 4\n",
      "7: 37\n",
      "4: 33\n",
      "Z: 4\n",
      "9: 30\n",
      "2: 24\n",
      "6: 28\n",
      "L: 5\n",
      "T: 6\n",
      "V: 4\n",
      "D: 8\n",
      "O: 9\n",
      "H: 12\n",
      "B: 6\n",
      "J: 6\n",
      "R: 6\n",
      "F: 8\n",
      "Q: 3\n",
      "U: 4\n",
      "E: 2\n",
      "W: 8\n",
      "X: 8\n",
      "I: 6\n",
      "M: 9\n",
      "G: 5\n",
      "P: 4\n"
     ]
    }
   ],
   "source": [
    "import re\n",
    "pattern = r'^(\\w)'\n",
    "from collections import Counter\n",
    "\n",
    "value_counts = Counter()\n",
    "\n",
    "for plate in license_plates:\n",
    "    result = re.match(pattern, plate)\n",
    "    values = result.group()\n",
    "\n",
    "    occurrences = Counter(values)\n",
    "    \n",
    "    value_counts += occurrences\n",
    "\n",
    "for value, count in value_counts.items():\n",
    "    print(f\"{value}: {count}\")"
   ]
  },
  {
   "cell_type": "code",
   "execution_count": null,
   "metadata": {},
   "outputs": [],
   "source": []
  }
 ],
 "metadata": {
  "colab": {
   "provenance": []
  },
  "kernelspec": {
   "display_name": "Python 3 (ipykernel)",
   "language": "python",
   "name": "python3"
  },
  "language_info": {
   "codemirror_mode": {
    "name": "ipython",
    "version": 3
   },
   "file_extension": ".py",
   "mimetype": "text/x-python",
   "name": "python",
   "nbconvert_exporter": "python",
   "pygments_lexer": "ipython3",
   "version": "3.10.9"
  }
 },
 "nbformat": 4,
 "nbformat_minor": 4
}
